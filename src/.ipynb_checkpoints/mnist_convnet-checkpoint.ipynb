{
 "cells": [
  {
   "cell_type": "code",
   "execution_count": 1,
   "metadata": {},
   "outputs": [],
   "source": [
    "import torch\n",
    "from torch.nn import functional as F\n",
    "from torch import nn\n",
    "from pytorch_lightning.core.lightning import LightningModule\n",
    "\n",
    "from torch.utils.data import DataLoader, random_split\n",
    "from torchvision.datasets import MNIST\n",
    "import os\n",
    "from torchvision import datasets, transforms\n",
    "from torch.optim import Adam\n",
    "\n",
    "from pytorch_lightning import Trainer"
   ]
  },
  {
   "cell_type": "code",
   "execution_count": 7,
   "metadata": {},
   "outputs": [],
   "source": [
    "class LitMNIST(LightningModule):\n",
    "\n",
    "    def __init__(self):\n",
    "        super().__init__()\n",
    "\n",
    "        # mnist images are (1, 28, 28) (channels, width, height)\n",
    "        self.layer_1 = torch.nn.Linear(28 * 28, 128)\n",
    "        self.layer_2 = torch.nn.Linear(128, 256)\n",
    "        self.layer_3 = torch.nn.Linear(256, 10)\n",
    "\n",
    "    def forward(self, x):\n",
    "        batch_size, channels, width, height = x.size()\n",
    "        # (b, 1, 28, 28) -> (b, 1*28*28)\n",
    "        x = x.view(batch_size, -1)\n",
    "        \n",
    "        # layer 1 (b, 1*28*28) -> (b, 128)\n",
    "        x = self.layer_1(x)\n",
    "        x = torch.relu(x)\n",
    "\n",
    "        # layer 2 (b, 128) -> (b, 256)\n",
    "        x = self.layer_2(x)\n",
    "        x = torch.relu(x)\n",
    "\n",
    "        # layer 3 (b, 256) -> (b, 10)\n",
    "        x = self.layer_3(x)\n",
    "\n",
    "        # probability distribution over labels\n",
    "        x = torch.log_softmax(x, dim=1)\n",
    "\n",
    "        return x\n",
    "    \n",
    "    def cross_entropy_loss(self, logits, labels):\n",
    "        return F.nll_loss(logits, labels)\n",
    "\n",
    "    def prepare_data(self):\n",
    "        # transforms for images\n",
    "        transform=transforms.Compose([transforms.ToTensor(), \n",
    "                                  transforms.Normalize((0.1307,), (0.3081,))])\n",
    "        # prepare transforms standard to MNIST\n",
    "        mnist_train = MNIST(os.getcwd(), train=True, download=True, transform=transform)\n",
    "        self.mnist_test = MNIST(os.getcwd(), train=False, download=True, transform=transform)\n",
    "        \n",
    "        self.mnist_train, self.mnist_val = random_split(mnist_train, [55000, 5000])\n",
    "        \n",
    "    def train_dataloader(self):\n",
    "        return DataLoader(self.mnist_train, batch_size=64)\n",
    "\n",
    "    def val_dataloader(self):\n",
    "        return DataLoader(self.mnist_val, batch_size=64)\n",
    "\n",
    "    def test_dataloader(self):\n",
    "        return DataLoader(self.mnist_test, batch_size=64)\n",
    "\n",
    "    def configure_optimizers(self):\n",
    "        return Adam(self.parameters(), lr=1e-3)\n",
    "\n",
    "    def training_step(self, batch, batch_idx):\n",
    "        x, y = batch\n",
    "        logits = self.forward(x)\n",
    "        loss = self.cross_entropy_loss(logits, y)\n",
    "        \n",
    "        logs = {'train_loss': loss}\n",
    "        return {'loss': loss, 'log': logs}\n",
    "    \n",
    "    def validation_step(self, batch, batch_idx):\n",
    "        x, y = batch\n",
    "        logits = self(x)\n",
    "        loss = self.cross_entropy_loss(logits, y)\n",
    "        return {'val_loss': loss}\n",
    "    \n",
    "    def validation_epoch_end(self, outputs):\n",
    "        avg_loss = torch.stack([x['val_loss'] for x in outputs]).mean()\n",
    "        tensorboard_logs = {'val_loss': avg_loss}\n",
    "        return {'val_loss': avg_loss, 'log': tensorboard_logs}\n",
    "    \n",
    "    def test_step(self, batch, batch_idx):\n",
    "        x, y = batch\n",
    "        logits = self(x)\n",
    "        loss = self.cross_entropy_loss(logits, y)\n",
    "        \n",
    "        return {'test_loss': loss}\n",
    "\n",
    "    def test_epoch_end(self, outputs):\n",
    "        avg_loss = torch.stack([x['test_loss'] for x in outputs]).mean()\n",
    "        tensorboard_logs = {'test_loss': avg_loss}\n",
    "        return {'test_loss': avg_loss, 'log': tensorboard_logs}"
   ]
  },
  {
   "cell_type": "code",
   "execution_count": 8,
   "metadata": {},
   "outputs": [],
   "source": [
    "net = LitMNIST()\n",
    "x = torch.Tensor(1, 1, 28, 28)\n",
    "out = net(x)"
   ]
  },
  {
   "cell_type": "code",
   "execution_count": 9,
   "metadata": {},
   "outputs": [
    {
     "data": {
      "text/plain": [
       "tensor([[nan, nan, nan, nan, nan, nan, nan, nan, nan, nan]],\n",
       "       grad_fn=<LogSoftmaxBackward>)"
      ]
     },
     "execution_count": 9,
     "metadata": {},
     "output_type": "execute_result"
    }
   ],
   "source": [
    "out"
   ]
  },
  {
   "cell_type": "code",
   "execution_count": 10,
   "metadata": {},
   "outputs": [
    {
     "name": "stderr",
     "output_type": "stream",
     "text": [
      "GPU available: False, used: False\n",
      "TPU available: False, using: 0 TPU cores\n",
      "\n",
      "  | Name    | Type   | Params\n",
      "-----------------------------------\n",
      "0 | layer_1 | Linear | 100 K \n",
      "1 | layer_2 | Linear | 33 K  \n",
      "2 | layer_3 | Linear | 2 K   \n"
     ]
    },
    {
     "data": {
      "application/vnd.jupyter.widget-view+json": {
       "model_id": "",
       "version_major": 2,
       "version_minor": 0
      },
      "text/plain": [
       "HBox(children=(FloatProgress(value=1.0, bar_style='info', description='Validation sanity check', layout=Layout…"
      ]
     },
     "metadata": {},
     "output_type": "display_data"
    },
    {
     "data": {
      "application/vnd.jupyter.widget-view+json": {
       "model_id": "f615bd477d044df7997071d414bdb33c",
       "version_major": 2,
       "version_minor": 0
      },
      "text/plain": [
       "HBox(children=(FloatProgress(value=1.0, bar_style='info', description='Training', layout=Layout(flex='2'), max…"
      ]
     },
     "metadata": {},
     "output_type": "display_data"
    },
    {
     "data": {
      "application/vnd.jupyter.widget-view+json": {
       "model_id": "",
       "version_major": 2,
       "version_minor": 0
      },
      "text/plain": [
       "HBox(children=(FloatProgress(value=1.0, bar_style='info', description='Validating', layout=Layout(flex='2'), m…"
      ]
     },
     "metadata": {},
     "output_type": "display_data"
    },
    {
     "data": {
      "application/vnd.jupyter.widget-view+json": {
       "model_id": "",
       "version_major": 2,
       "version_minor": 0
      },
      "text/plain": [
       "HBox(children=(FloatProgress(value=1.0, bar_style='info', description='Validating', layout=Layout(flex='2'), m…"
      ]
     },
     "metadata": {},
     "output_type": "display_data"
    },
    {
     "data": {
      "application/vnd.jupyter.widget-view+json": {
       "model_id": "",
       "version_major": 2,
       "version_minor": 0
      },
      "text/plain": [
       "HBox(children=(FloatProgress(value=1.0, bar_style='info', description='Validating', layout=Layout(flex='2'), m…"
      ]
     },
     "metadata": {},
     "output_type": "display_data"
    },
    {
     "name": "stdout",
     "output_type": "stream",
     "text": [
      "\n"
     ]
    },
    {
     "data": {
      "text/plain": [
       "1"
      ]
     },
     "execution_count": 10,
     "metadata": {},
     "output_type": "execute_result"
    }
   ],
   "source": [
    "model = LitMNIST()\n",
    "trainer = Trainer(max_epochs=3)\n",
    "trainer.fit(model)"
   ]
  },
  {
   "cell_type": "code",
   "execution_count": 11,
   "metadata": {},
   "outputs": [
    {
     "name": "stderr",
     "output_type": "stream",
     "text": [
      "/home/cpadwick/code/pylightning/pl/lib/python3.6/site-packages/pytorch_lightning/utilities/distributed.py:25: UserWarning: The dataloader, test dataloader 0, does not have many workers which may be a bottleneck. Consider increasing the value of the `num_workers` argument` (try 8 which is the number of cpus on this machine) in the `DataLoader` init to improve performance.\n",
      "  warnings.warn(*args, **kwargs)\n"
     ]
    },
    {
     "data": {
      "application/vnd.jupyter.widget-view+json": {
       "model_id": "1cb30b605f9e471299cd36fe264ce5c2",
       "version_major": 2,
       "version_minor": 0
      },
      "text/plain": [
       "HBox(children=(FloatProgress(value=1.0, bar_style='info', description='Testing', layout=Layout(flex='2'), max=…"
      ]
     },
     "metadata": {},
     "output_type": "display_data"
    },
    {
     "name": "stdout",
     "output_type": "stream",
     "text": [
      "--------------------------------------------------------------------------------\n",
      "TEST RESULTS\n",
      "{'test_loss': tensor(0.0828)}\n",
      "--------------------------------------------------------------------------------\n",
      "\n"
     ]
    }
   ],
   "source": [
    "trainer.test()"
   ]
  },
  {
   "cell_type": "code",
   "execution_count": 12,
   "metadata": {},
   "outputs": [
    {
     "data": {
      "text/plain": [
       "<pytorch_lightning.loggers.tensorboard.TensorBoardLogger at 0x7f17dd3906a0>"
      ]
     },
     "execution_count": 12,
     "metadata": {},
     "output_type": "execute_result"
    }
   ],
   "source": [
    "model.logger"
   ]
  },
  {
   "cell_type": "code",
   "execution_count": 13,
   "metadata": {},
   "outputs": [
    {
     "data": {
      "text/plain": [
       "Reusing TensorBoard on port 6006 (pid 452), started 15 days, 9:59:13 ago. (Use '!kill 452' to kill it.)"
      ]
     },
     "metadata": {},
     "output_type": "display_data"
    },
    {
     "data": {
      "text/html": [
       "\n",
       "      <iframe id=\"tensorboard-frame-f004bedb46ff89b9\" width=\"100%\" height=\"800\" frameborder=\"0\">\n",
       "      </iframe>\n",
       "      <script>\n",
       "        (function() {\n",
       "          const frame = document.getElementById(\"tensorboard-frame-f004bedb46ff89b9\");\n",
       "          const url = new URL(\"/\", window.location);\n",
       "          url.port = 6006;\n",
       "          frame.src = url;\n",
       "        })();\n",
       "      </script>\n",
       "  "
      ],
      "text/plain": [
       "<IPython.core.display.HTML object>"
      ]
     },
     "metadata": {},
     "output_type": "display_data"
    }
   ],
   "source": [
    "%load_ext tensorboard\n",
    "%tensorboard --logdir lightning_logs/"
   ]
  },
  {
   "cell_type": "code",
   "execution_count": 28,
   "metadata": {},
   "outputs": [],
   "source": [
    "dl = model.test_dataloader()"
   ]
  },
  {
   "cell_type": "code",
   "execution_count": 29,
   "metadata": {},
   "outputs": [
    {
     "data": {
      "text/plain": [
       "<torch.utils.data.dataloader.DataLoader at 0x7f17dcd6ba20>"
      ]
     },
     "execution_count": 29,
     "metadata": {},
     "output_type": "execute_result"
    }
   ],
   "source": [
    "dl"
   ]
  },
  {
   "cell_type": "code",
   "execution_count": 30,
   "metadata": {},
   "outputs": [
    {
     "name": "stdout",
     "output_type": "stream",
     "text": [
      "torch.Size([64, 1, 28, 28])\n",
      "[[[-0.42421296 -0.42421296 -0.42421296 -0.42421296 -0.42421296\n",
      "   -0.42421296 -0.42421296 -0.42421296 -0.42421296 -0.42421296\n",
      "   -0.42421296 -0.42421296 -0.42421296 -0.42421296 -0.42421296\n",
      "   -0.42421296 -0.42421296 -0.42421296 -0.42421296 -0.42421296\n",
      "   -0.42421296 -0.42421296 -0.42421296 -0.42421296 -0.42421296\n",
      "   -0.42421296 -0.42421296 -0.42421296]\n",
      "  [-0.42421296 -0.42421296 -0.42421296 -0.42421296 -0.42421296\n",
      "   -0.42421296 -0.42421296 -0.42421296 -0.42421296 -0.42421296\n",
      "   -0.42421296 -0.42421296 -0.42421296 -0.42421296 -0.42421296\n",
      "   -0.42421296 -0.42421296 -0.42421296 -0.42421296 -0.42421296\n",
      "   -0.42421296 -0.42421296 -0.42421296 -0.42421296 -0.42421296\n",
      "   -0.42421296 -0.42421296 -0.42421296]\n",
      "  [-0.42421296 -0.42421296 -0.42421296 -0.42421296 -0.42421296\n",
      "   -0.42421296 -0.42421296 -0.42421296 -0.42421296 -0.42421296\n",
      "   -0.42421296 -0.42421296 -0.42421296 -0.42421296 -0.42421296\n",
      "   -0.42421296 -0.42421296 -0.42421296 -0.42421296 -0.42421296\n",
      "   -0.42421296 -0.42421296 -0.42421296 -0.42421296 -0.42421296\n",
      "   -0.42421296 -0.42421296 -0.42421296]\n",
      "  [-0.42421296 -0.42421296 -0.42421296 -0.42421296 -0.42421296\n",
      "   -0.42421296 -0.42421296 -0.42421296 -0.42421296 -0.42421296\n",
      "   -0.42421296 -0.42421296 -0.42421296 -0.42421296 -0.42421296\n",
      "   -0.42421296 -0.42421296 -0.42421296 -0.42421296 -0.42421296\n",
      "   -0.42421296 -0.42421296 -0.42421296 -0.42421296 -0.42421296\n",
      "   -0.42421296 -0.42421296 -0.42421296]\n",
      "  [-0.42421296 -0.42421296 -0.42421296 -0.42421296 -0.42421296\n",
      "   -0.42421296 -0.42421296 -0.42421296 -0.42421296 -0.42421296\n",
      "   -0.42421296 -0.42421296 -0.42421296 -0.42421296 -0.42421296\n",
      "   -0.42421296 -0.42421296 -0.42421296 -0.42421296 -0.42421296\n",
      "   -0.42421296 -0.42421296 -0.42421296 -0.42421296 -0.42421296\n",
      "   -0.42421296 -0.42421296 -0.42421296]\n",
      "  [-0.42421296 -0.42421296 -0.42421296 -0.42421296 -0.42421296\n",
      "   -0.42421296 -0.42421296 -0.42421296 -0.42421296 -0.42421296\n",
      "   -0.42421296 -0.42421296 -0.42421296 -0.42421296 -0.42421296\n",
      "   -0.42421296 -0.42421296 -0.42421296 -0.42421296 -0.42421296\n",
      "   -0.42421296 -0.42421296 -0.42421296 -0.42421296 -0.42421296\n",
      "   -0.42421296 -0.42421296 -0.42421296]\n",
      "  [-0.42421296 -0.42421296 -0.42421296 -0.42421296 -0.42421296\n",
      "   -0.42421296 -0.42421296 -0.42421296 -0.42421296 -0.42421296\n",
      "   -0.42421296 -0.42421296 -0.42421296 -0.42421296 -0.42421296\n",
      "   -0.42421296 -0.42421296 -0.42421296 -0.42421296 -0.42421296\n",
      "   -0.42421296 -0.42421296 -0.42421296 -0.42421296 -0.42421296\n",
      "   -0.42421296 -0.42421296 -0.42421296]\n",
      "  [-0.42421296 -0.42421296 -0.42421296 -0.42421296 -0.42421296\n",
      "   -0.42421296  0.64495873  1.9305104   1.5995764   1.4977505\n",
      "    0.33948106  0.03400347 -0.42421296 -0.42421296 -0.42421296\n",
      "   -0.42421296 -0.42421296 -0.42421296 -0.42421296 -0.42421296\n",
      "   -0.42421296 -0.42421296 -0.42421296 -0.42421296 -0.42421296\n",
      "   -0.42421296 -0.42421296 -0.42421296]\n",
      "  [-0.42421296 -0.42421296 -0.42421296 -0.42421296 -0.42421296\n",
      "   -0.42421296  2.401455    2.8087585   2.8087585   2.8087585\n",
      "    2.8087585   2.6432915   2.0959773   2.0959773   2.0959773\n",
      "    2.0959773   2.0959773   2.0959773   2.0959773   2.0959773\n",
      "    1.7395868   0.23765521 -0.42421296 -0.42421296 -0.42421296\n",
      "   -0.42421296 -0.42421296 -0.42421296]\n",
      "  [-0.42421296 -0.42421296 -0.42421296 -0.42421296 -0.42421296\n",
      "   -0.42421296  0.42857873  1.0268056   0.49221992  1.0268056\n",
      "    1.6504892   2.4650962   2.8087585   2.4396398   2.8087585\n",
      "    2.8087585   2.8087585   2.7578456   2.4905527   2.8087585\n",
      "    2.8087585   1.3577399  -0.42421296 -0.42421296 -0.42421296\n",
      "   -0.42421296 -0.42421296 -0.42421296]\n",
      "  [-0.42421296 -0.42421296 -0.42421296 -0.42421296 -0.42421296\n",
      "   -0.42421296 -0.42421296 -0.42421296 -0.42421296 -0.42421296\n",
      "   -0.42421296 -0.20783298  0.41585052 -0.2460177   0.42857873\n",
      "    0.42857873  0.42857873  0.32675284 -0.15692005  2.5796502\n",
      "    2.8087585   0.9249798  -0.42421296 -0.42421296 -0.42421296\n",
      "   -0.42421296 -0.42421296 -0.42421296]\n",
      "  [-0.42421296 -0.42421296 -0.42421296 -0.42421296 -0.42421296\n",
      "   -0.42421296 -0.42421296 -0.42421296 -0.42421296 -0.42421296\n",
      "   -0.42421296 -0.42421296 -0.42421296 -0.42421296 -0.42421296\n",
      "   -0.42421296 -0.42421296 -0.42421296  0.63223046  2.7960303\n",
      "    2.235988   -0.19510475 -0.42421296 -0.42421296 -0.42421296\n",
      "   -0.42421296 -0.42421296 -0.42421296]\n",
      "  [-0.42421296 -0.42421296 -0.42421296 -0.42421296 -0.42421296\n",
      "   -0.42421296 -0.42421296 -0.42421296 -0.42421296 -0.42421296\n",
      "   -0.42421296 -0.42421296 -0.42421296 -0.42421296 -0.42421296\n",
      "   -0.42421296 -0.42421296 -0.14419182  2.5414655   2.8214867\n",
      "    0.63223046 -0.42421296 -0.42421296 -0.42421296 -0.42421296\n",
      "   -0.42421296 -0.42421296 -0.42421296]\n",
      "  [-0.42421296 -0.42421296 -0.42421296 -0.42421296 -0.42421296\n",
      "   -0.42421296 -0.42421296 -0.42421296 -0.42421296 -0.42421296\n",
      "   -0.42421296 -0.42421296 -0.42421296 -0.42421296 -0.42421296\n",
      "   -0.42421296 -0.42421296  1.2177293   2.8087585   2.6051068\n",
      "    0.13582934 -0.42421296 -0.42421296 -0.42421296 -0.42421296\n",
      "   -0.42421296 -0.42421296 -0.42421296]\n",
      "  [-0.42421296 -0.42421296 -0.42421296 -0.42421296 -0.42421296\n",
      "   -0.42421296 -0.42421296 -0.42421296 -0.42421296 -0.42421296\n",
      "   -0.42421296 -0.42421296 -0.42421296 -0.42421296 -0.42421296\n",
      "   -0.42421296  0.32675284  2.7451172   2.8087585   0.36493754\n",
      "   -0.42421296 -0.42421296 -0.42421296 -0.42421296 -0.42421296\n",
      "   -0.42421296 -0.42421296 -0.42421296]\n",
      "  [-0.42421296 -0.42421296 -0.42421296 -0.42421296 -0.42421296\n",
      "   -0.42421296 -0.42421296 -0.42421296 -0.42421296 -0.42421296\n",
      "   -0.42421296 -0.42421296 -0.42421296 -0.42421296 -0.42421296\n",
      "   -0.42421296  1.2686423   2.8087585   1.9559668  -0.3605718\n",
      "   -0.42421296 -0.42421296 -0.42421296 -0.42421296 -0.42421296\n",
      "   -0.42421296 -0.42421296 -0.42421296]\n",
      "  [-0.42421296 -0.42421296 -0.42421296 -0.42421296 -0.42421296\n",
      "   -0.42421296 -0.42421296 -0.42421296 -0.42421296 -0.42421296\n",
      "   -0.42421296 -0.42421296 -0.42421296 -0.42421296 -0.42421296\n",
      "   -0.30965886  2.185075    2.732389    0.3140246  -0.42421296\n",
      "   -0.42421296 -0.42421296 -0.42421296 -0.42421296 -0.42421296\n",
      "   -0.42421296 -0.42421296 -0.42421296]\n",
      "  [-0.42421296 -0.42421296 -0.42421296 -0.42421296 -0.42421296\n",
      "   -0.42421296 -0.42421296 -0.42421296 -0.42421296 -0.42421296\n",
      "   -0.42421296 -0.42421296 -0.42421296 -0.42421296 -0.42421296\n",
      "    1.1795444   2.8087585   1.8923256  -0.42421296 -0.42421296\n",
      "   -0.42421296 -0.42421296 -0.42421296 -0.42421296 -0.42421296\n",
      "   -0.42421296 -0.42421296 -0.42421296]\n",
      "  [-0.42421296 -0.42421296 -0.42421296 -0.42421296 -0.42421296\n",
      "   -0.42421296 -0.42421296 -0.42421296 -0.42421296 -0.42421296\n",
      "   -0.42421296 -0.42421296 -0.42421296 -0.42421296  0.5304046\n",
      "    2.7705739   2.6305633   0.30129635 -0.42421296 -0.42421296\n",
      "   -0.42421296 -0.42421296 -0.42421296 -0.42421296 -0.42421296\n",
      "   -0.42421296 -0.42421296 -0.42421296]\n",
      "  [-0.42421296 -0.42421296 -0.42421296 -0.42421296 -0.42421296\n",
      "   -0.42421296 -0.42421296 -0.42421296 -0.42421296 -0.42421296\n",
      "   -0.42421296 -0.42421296 -0.42421296 -0.1823765   2.3887267\n",
      "    2.8087585   1.688674   -0.42421296 -0.42421296 -0.42421296\n",
      "   -0.42421296 -0.42421296 -0.42421296 -0.42421296 -0.42421296\n",
      "   -0.42421296 -0.42421296 -0.42421296]\n",
      "  [-0.42421296 -0.42421296 -0.42421296 -0.42421296 -0.42421296\n",
      "   -0.42421296 -0.42421296 -0.42421296 -0.42421296 -0.42421296\n",
      "   -0.42421296 -0.42421296 -0.38602826  2.1596186   2.8087585\n",
      "    2.3632703   0.02127524 -0.42421296 -0.42421296 -0.42421296\n",
      "   -0.42421296 -0.42421296 -0.42421296 -0.42421296 -0.42421296\n",
      "   -0.42421296 -0.42421296 -0.42421296]\n",
      "  [-0.42421296 -0.42421296 -0.42421296 -0.42421296 -0.42421296\n",
      "   -0.42421296 -0.42421296 -0.42421296 -0.42421296 -0.42421296\n",
      "   -0.42421296 -0.42421296  0.05945994  2.8087585   2.8087585\n",
      "    0.55586106 -0.42421296 -0.42421296 -0.42421296 -0.42421296\n",
      "   -0.42421296 -0.42421296 -0.42421296 -0.42421296 -0.42421296\n",
      "   -0.42421296 -0.42421296 -0.42421296]\n",
      "  [-0.42421296 -0.42421296 -0.42421296 -0.42421296 -0.42421296\n",
      "   -0.42421296 -0.42421296 -0.42421296 -0.42421296 -0.42421296\n",
      "   -0.42421296 -0.02963771  2.4269114   2.8087585   1.0395339\n",
      "   -0.41148472 -0.42421296 -0.42421296 -0.42421296 -0.42421296\n",
      "   -0.42421296 -0.42421296 -0.42421296 -0.42421296 -0.42421296\n",
      "   -0.42421296 -0.42421296 -0.42421296]\n",
      "  [-0.42421296 -0.42421296 -0.42421296 -0.42421296 -0.42421296\n",
      "   -0.42421296 -0.42421296 -0.42421296 -0.42421296 -0.42421296\n",
      "   -0.42421296  1.2686423   2.8087585   2.8087585   0.23765521\n",
      "   -0.42421296 -0.42421296 -0.42421296 -0.42421296 -0.42421296\n",
      "   -0.42421296 -0.42421296 -0.42421296 -0.42421296 -0.42421296\n",
      "   -0.42421296 -0.42421296 -0.42421296]\n",
      "  [-0.42421296 -0.42421296 -0.42421296 -0.42421296 -0.42421296\n",
      "   -0.42421296 -0.42421296 -0.42421296 -0.42421296 -0.42421296\n",
      "    0.3522093   2.6560197   2.8087585   2.8087585   0.23765521\n",
      "   -0.42421296 -0.42421296 -0.42421296 -0.42421296 -0.42421296\n",
      "   -0.42421296 -0.42421296 -0.42421296 -0.42421296 -0.42421296\n",
      "   -0.42421296 -0.42421296 -0.42421296]\n",
      "  [-0.42421296 -0.42421296 -0.42421296 -0.42421296 -0.42421296\n",
      "   -0.42421296 -0.42421296 -0.42421296 -0.42421296 -0.42421296\n",
      "    1.1159033   2.8087585   2.8087585   2.3632703   0.08491641\n",
      "   -0.42421296 -0.42421296 -0.42421296 -0.42421296 -0.42421296\n",
      "   -0.42421296 -0.42421296 -0.42421296 -0.42421296 -0.42421296\n",
      "   -0.42421296 -0.42421296 -0.42421296]\n",
      "  [-0.42421296 -0.42421296 -0.42421296 -0.42421296 -0.42421296\n",
      "   -0.42421296 -0.42421296 -0.42421296 -0.42421296 -0.42421296\n",
      "    1.1159033   2.8087585   2.2105315  -0.19510475 -0.42421296\n",
      "   -0.42421296 -0.42421296 -0.42421296 -0.42421296 -0.42421296\n",
      "   -0.42421296 -0.42421296 -0.42421296 -0.42421296 -0.42421296\n",
      "   -0.42421296 -0.42421296 -0.42421296]\n",
      "  [-0.42421296 -0.42421296 -0.42421296 -0.42421296 -0.42421296\n",
      "   -0.42421296 -0.42421296 -0.42421296 -0.42421296 -0.42421296\n",
      "   -0.42421296 -0.42421296 -0.42421296 -0.42421296 -0.42421296\n",
      "   -0.42421296 -0.42421296 -0.42421296 -0.42421296 -0.42421296\n",
      "   -0.42421296 -0.42421296 -0.42421296 -0.42421296 -0.42421296\n",
      "   -0.42421296 -0.42421296 -0.42421296]]]\n"
     ]
    }
   ],
   "source": [
    "for batch, lab in dl:\n",
    "    print(batch.size())\n",
    "    print(batch[0].numpy())\n",
    "    break"
   ]
  },
  {
   "cell_type": "code",
   "execution_count": 31,
   "metadata": {},
   "outputs": [],
   "source": [
    "predictions = []\n",
    "labels = []\n",
    "for batch, lab in dl:\n",
    "    pred = model(batch)\n",
    "    pred = torch.argmax(pred, dim=1).numpy()\n",
    "    predictions += list(pred)\n",
    "    labels += list(lab.numpy())\n",
    "    "
   ]
  },
  {
   "cell_type": "code",
   "execution_count": 32,
   "metadata": {},
   "outputs": [],
   "source": [
    "from sklearn.metrics import confusion_matrix, accuracy_score"
   ]
  },
  {
   "cell_type": "code",
   "execution_count": 33,
   "metadata": {},
   "outputs": [],
   "source": [
    "cm = confusion_matrix(labels, predictions, labels=[0, 1, 2, 3, 4, 5, 6, 7, 8, 9])"
   ]
  },
  {
   "cell_type": "code",
   "execution_count": 34,
   "metadata": {},
   "outputs": [
    {
     "data": {
      "text/plain": [
       "array([[ 968,    1,    1,    1,    0,    2,    6,    1,    0,    0],\n",
       "       [   0, 1126,    2,    0,    0,    1,    4,    1,    1,    0],\n",
       "       [   6,    2, 1004,    4,    3,    0,    2,    9,    2,    0],\n",
       "       [   2,    3,    3,  982,    1,    9,    0,    6,    2,    2],\n",
       "       [   1,    0,    3,    0,  959,    0,   14,    1,    1,    3],\n",
       "       [   1,    1,    0,    7,    1,  860,   15,    1,    4,    2],\n",
       "       [   2,    2,    1,    1,    1,    1,  950,    0,    0,    0],\n",
       "       [   1,    5,   12,    0,    3,    0,    0,  998,    3,    6],\n",
       "       [   3,    0,    6,    9,    3,    3,    8,    3,  938,    1],\n",
       "       [   2,    3,    0,    4,   17,    2,    2,    5,    7,  967]])"
      ]
     },
     "execution_count": 34,
     "metadata": {},
     "output_type": "execute_result"
    }
   ],
   "source": [
    "cm"
   ]
  },
  {
   "cell_type": "code",
   "execution_count": 35,
   "metadata": {},
   "outputs": [
    {
     "data": {
      "text/plain": [
       "0.9752"
      ]
     },
     "execution_count": 35,
     "metadata": {},
     "output_type": "execute_result"
    }
   ],
   "source": [
    "accuracy_score(labels, predictions)"
   ]
  },
  {
   "cell_type": "code",
   "execution_count": 37,
   "metadata": {},
   "outputs": [
    {
     "name": "stdout",
     "output_type": "stream",
     "text": [
      "torch.Size([64])\n",
      "4 16 64\n"
     ]
    },
    {
     "data": {
      "image/png": "[encoded data removed]",
      "text/plain": [
       "<Figure size 432x288 with 64 Axes>"
      ]
     },
     "metadata": {
      "needs_background": "light"
     },
     "output_type": "display_data"
    }
   ],
   "source": [
    "dl = model.train_dataloader()\n",
    "import matplotlib.pyplot as plt\n",
    "for batch, lab in dl:\n",
    "    print(lab.size())\n",
    "    nimages = batch.size()[0]\n",
    "    ncols = 4\n",
    "    nrows = nimages // ncols\n",
    "    print(ncols, nrows, nimages)\n",
    "    f, axarr = plt.subplots(ncols, nrows)\n",
    "    curr_col = 0\n",
    "    for idx in range(nimages):\n",
    "        col = idx % ncols\n",
    "        row = idx // ncols\n",
    "        img = batch[idx, :].numpy().squeeze()\n",
    "        label = lab[idx]\n",
    "        axarr[col, row].imshow(img)\n",
    "    break\n"
   ]
  },
  {
   "cell_type": "code",
   "execution_count": null,
   "metadata": {},
   "outputs": [],
   "source": []
  }
 ],
 "metadata": {
  "kernelspec": {
   "display_name": "Python 3",
   "language": "python",
   "name": "python3"
  },
  "language_info": {
   "codemirror_mode": {
    "name": "ipython",
    "version": 3
   },
   "file_extension": ".py",
   "mimetype": "text/x-python",
   "name": "python",
   "nbconvert_exporter": "python",
   "pygments_lexer": "ipython3",
   "version": "3.6.9"
  }
 },
 "nbformat": 4,
 "nbformat_minor": 4
}
