{
 "cells": [
  {
   "cell_type": "code",
   "execution_count": null,
   "metadata": {},
   "outputs": [],
   "source": [
    "import numpy as np\n",
    "import torch\n",
    "from torchsummary import summary"
   ]
  },
  {
   "cell_type": "code",
   "execution_count": null,
   "metadata": {
    "scrolled": false
   },
   "outputs": [],
   "source": [
    "vgg16model = torch.hub.load('pytorch/vision:v0.6.0', 'vgg16', pretrained=True)"
   ]
  },
  {
   "cell_type": "code",
   "execution_count": null,
   "metadata": {
    "scrolled": true
   },
   "outputs": [],
   "source": [
    "print(vgg16model)"
   ]
  },
  {
   "cell_type": "code",
   "execution_count": null,
   "metadata": {},
   "outputs": [],
   "source": [
    "def stretch_image(x):\n",
    "    img = x.detach().numpy().squeeze()\n",
    "    img = np.transpose(img, (1, 2, 0))\n",
    "    img  = (img - img.min()) / (img.max() - img.min()) * 255.\n",
    "    return img.astype(np.uint8)"
   ]
  },
  {
   "cell_type": "code",
   "execution_count": null,
   "metadata": {},
   "outputs": [],
   "source": [
    "from torch.autograd import Variable\n",
    "from tqdm import tqdm, trange"
   ]
  },
  {
   "cell_type": "code",
   "execution_count": null,
   "metadata": {},
   "outputs": [],
   "source": [
    "nchannels = 64\n",
    "\n",
    "images = []\n",
    "\n",
    "for channel in range(nchannels):\n",
    "    with torch.enable_grad():\n",
    "        random_tensor = torch.randn((3, 224, 224), requires_grad=True)\n",
    "        random_tensor = random_tensor.unsqueeze(0)\n",
    "\n",
    "    lr = 1.0\n",
    "    x = Variable(random_tensor, requires_grad=True)\n",
    "    optimizer = torch.optim.Adam([x], lr=lr, weight_decay=1e-6)\n",
    "\n",
    "    nepochs = 25\n",
    "    prog_bar = trange(nepochs, desc='Loss:', leave=True)\n",
    "    for i in prog_bar:\n",
    "        optimizer.zero_grad()\n",
    "        output = x.clone()\n",
    "        for layer in range(17):\n",
    "            output = vgg16model.features[layer](output)\n",
    "    \n",
    "        loss = -torch.mean(output[:, channel, :, :])\n",
    "        prog_bar.set_description(f'Loss: {loss} Channel: {channel}')\n",
    "        prog_bar.refresh()\n",
    "        loss.backward()\n",
    "        optimizer.step()\n",
    "        \n",
    "    images.append(stretch_image(x))"
   ]
  },
  {
   "cell_type": "code",
   "execution_count": null,
   "metadata": {},
   "outputs": [],
   "source": [
    "import ipyplot\n",
    "ipyplot.plot_images(images, max_images=nchannels, img_width=200)"
   ]
  },
  {
   "cell_type": "code",
   "execution_count": null,
   "metadata": {},
   "outputs": [],
   "source": []
  }
 ],
 "metadata": {
  "kernelspec": {
   "display_name": "Python 3",
   "language": "python",
   "name": "python3"
  },
  "language_info": {
   "codemirror_mode": {
    "name": "ipython",
    "version": 3
   },
   "file_extension": ".py",
   "mimetype": "text/x-python",
   "name": "python",
   "nbconvert_exporter": "python",
   "pygments_lexer": "ipython3",
   "version": "3.6.9"
  }
 },
 "nbformat": 4,
 "nbformat_minor": 4
}
